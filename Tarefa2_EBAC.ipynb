{
  "nbformat": 4,
  "nbformat_minor": 0,
  "metadata": {
    "colab": {
      "provenance": [],
      "authorship_tag": "ABX9TyMkcy0rfAqmQ4/oo5fhBaFj",
      "include_colab_link": true
    },
    "kernelspec": {
      "name": "python3",
      "display_name": "Python 3"
    },
    "language_info": {
      "name": "python"
    }
  },
  "cells": [
    {
      "cell_type": "markdown",
      "metadata": {
        "id": "view-in-github",
        "colab_type": "text"
      },
      "source": [
        "<a href=\"https://colab.research.google.com/github/fpefigueiredo/startlearning.py/blob/main/Tarefa2_EBAC.ipynb\" target=\"_parent\"><img src=\"https://colab.research.google.com/assets/colab-badge.svg\" alt=\"Open In Colab\"/></a>"
      ]
    },
    {
      "cell_type": "code",
      "execution_count": null,
      "metadata": {
        "id": "y7SARNFJ3r6P"
      },
      "outputs": [],
      "source": [
        "##Exercício 1: Listas##\n",
        "\n",
        "filmes = ['Seven: Os Sete Crimes Capitais',\n",
        "          'Brilho Eterno de uma Mente sem Lembranças',\n",
        "          'Closer: Perto Demais',\n",
        "          'Em Algum Lugar do Passado',\n",
        "          'Os Outros',\n",
        "          'Poltergeist: O Fenômeno',\n",
        "          'Matrix',\n",
        "          'Os Suspeitos',\n",
        "          'O Bebê de Rosemary',\n",
        "          'O Sexto Sentido'\n",
        "         ]\n",
        "print(filmes)\n",
        "\n",
        "segundo_filme = filmes.pop(1)\n",
        "print(segundo_filme)\n",
        "print(filmes)\n",
        "\n",
        "filmes.insert(0,segundo_filme)\n",
        "print(filmes)\n",
        "print(type(filmes))\n",
        "\n",
        "## Exercício 2:\n",
        "\n",
        "filmes = ['Seven: Os Sete Crimes Capitais',\n",
        "          'Brilho Eterno de uma Mente sem Lembranças',\n",
        "          'Closer: Perto Demais',\n",
        "          'Em Algum Lugar do Passado',\n",
        "          'Os Outros',\n",
        "          'Poltergeist: O Fenômeno',\n",
        "          'Matrix',\n",
        "          'Os Suspeitos',\n",
        "          'O Bebê de Rosemary',\n",
        "          'O Sexto Sentido',\n",
        "          'Os Suspeitos',\n",
        "          'O Bebê de Rosemary',\n",
        "          'O Sexto Sentido'\n",
        "         ]\n",
        "print(filmes)\n",
        "conj_filmes = set(filmes)\n",
        "print(type(conj_filmes))\n",
        "print (conj_filmes)\n",
        "\n",
        "## Exercício 3: Dicionário\n",
        "\n",
        "filmes = []\n",
        "\n",
        "info_filmes = {'nome': ' Seven: Os Sete Crimes Capitais','ano':'1995','sinopse':'Two detectives, a rookie and a veteran, hunt a serial killer who uses the seven deadly sins as his motives.'}\n",
        "filmes.append(info_filmes)\n",
        "\n",
        "info_filmes = {'nome':'Brilho Eterno de uma Mente sem Lembranças','ano':'2004','sinopse':'When their relationship turns sour, a couple undergoes a medical procedure to have each other erased from their memories for ever.'}\n",
        "filmes.append(info_filmes)\n",
        "\n",
        "info_filmes = {'nome':'Closer: Perto Demais','ano':'2004','sinopse':'The relationships of two couples become complicated and deceitful when the man from one couple meets the woman of the other.'}\n",
        "filmes.append(info_filmes)\n",
        "\n",
        "info_filmes = {'nome':'Em Algum Lugar do Passado','ano':'1980','sinopse':'A Chicago playwright uses self-hypnosis to travel back in time and meet the actress whose vintage portrait hangs in a grand hotel.'}\n",
        "filmes.append(info_filmes)\n",
        "\n",
        "info_filmes = {'nome':'Os Outros','ano':'2001','sinopse':'In 1945, immediately following the end of Second World War, a woman who lives with her two photosensitive children on her darkened old family estate in the Channel Islands becomes convinced that the home is haunted.'}\n",
        "filmes.append(info_filmes)\n",
        "\n",
        "info_filmes = {'nome':'Poltergeist: O Fenômeno','ano':'1982','sinopse':'A familys home is haunted by a host of demonic ghosts.'}\n",
        "filmes.append(info_filmes)\n",
        "\n",
        "info_filmes = {'nome':'Matrix','ano':'1999','sinopse':'When a beautiful stranger leads computer hacker Neo to a forbidding underworld, he discovers the shocking truth--the life he knows is the elaborate deception of an evil cyber-intelligence.'}\n",
        "filmes.append(info_filmes)\n",
        "\n",
        "info_filmes = {'nome':'Os Suspeitos','ano':'1995','sinopse':'The sole survivor of a pier shoot-out tells the story of how a notorious criminal influenced the events that began with five criminals meeting in a seemingly random police lineup.'}\n",
        "filmes.append(info_filmes)\n",
        "\n",
        "info_filmes = {'nome':'O Bebê de Rosemary','ano':'1968','sinopse':'A young couple trying for a baby moves into an aging, ornate apartment building on Central Park West, where they find themselves surrounded by peculiar neighbors.'}\n",
        "filmes.append(info_filmes)\n",
        "\n",
        "info_filmes = {'nome':'O Sexto Sentido','ano':'1999','sinopse':'Malcolm Crowe, a child psychologist, starts treating a young boy, Cole, who encounters dead people and convinces him to help them. In turn, Cole helps Malcolm reconcile with his estranged wife.'}\n",
        "filmes.append(info_filmes)\n",
        "\n",
        "print(filmes)\n"
      ]
    }
  ]
}